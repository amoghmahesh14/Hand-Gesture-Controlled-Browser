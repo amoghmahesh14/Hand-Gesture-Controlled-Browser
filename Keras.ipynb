{
 "cells": [
  {
   "cell_type": "code",
   "execution_count": 2,
   "metadata": {},
   "outputs": [
    {
     "name": "stderr",
     "output_type": "stream",
     "text": [
      "Using TensorFlow backend.\n"
     ]
    }
   ],
   "source": [
    "import numpy as np\n",
    "from keras import layers\n",
    "from keras.preprocessing import image\n",
    "from keras.applications.imagenet_utils import preprocess_input\n",
    "\n",
    "from cnn_utils import *\n",
    "from keras.models import Sequential\n",
    "from keras.layers import Dense, Conv2D, MaxPooling2D, Dropout, Flatten\n",
    "\n",
    "import keras.backend as K\n",
    "K.set_image_data_format('channels_last')\n",
    "import matplotlib.pyplot as plt\n",
    "from matplotlib.pyplot import imshow"
   ]
  },
  {
   "cell_type": "code",
   "execution_count": 3,
   "metadata": {},
   "outputs": [
    {
     "name": "stdout",
     "output_type": "stream",
     "text": [
      "number of training examples = 1080\n",
      "number of test examples = 120\n",
      "X_train shape: (1080, 64, 64, 3)\n",
      "Y_train shape: (1080, 6)\n",
      "X_test shape: (120, 64, 64, 3)\n",
      "Y_test shape: (120, 6)\n"
     ]
    }
   ],
   "source": [
    "X_train_orig, Y_train_orig, X_test_orig, Y_test_orig, classes = load_dataset()\n",
    "X_train = X_train_orig/255.\n",
    "X_test = X_test_orig/255.\n",
    "Y_train = convert_to_one_hot(Y_train_orig, 6).T\n",
    "Y_test = convert_to_one_hot(Y_test_orig, 6).T\n",
    "print (\"number of training examples = \" + str(X_train.shape[0]))\n",
    "print (\"number of test examples = \" + str(X_test.shape[0]))\n",
    "print (\"X_train shape: \" + str(X_train.shape))\n",
    "print (\"Y_train shape: \" + str(Y_train.shape))\n",
    "print (\"X_test shape: \" + str(X_test.shape))\n",
    "print (\"Y_test shape: \" + str(Y_test.shape))"
   ]
  },
  {
   "cell_type": "code",
   "execution_count": 4,
   "metadata": {},
   "outputs": [
    {
     "name": "stdout",
     "output_type": "stream",
     "text": [
      "y = 0\n"
     ]
    },
    {
     "data": {
      "image/png": "[encoded data removed]",
      "text/plain": [
       "<Figure size 432x288 with 1 Axes>"
      ]
     },
     "metadata": {
      "needs_background": "light"
     },
     "output_type": "display_data"
    }
   ],
   "source": [
    "# Example of a picture\n",
    "index = 401\n",
    "plt.imshow(X_train_orig[index])\n",
    "print (\"y = \" + str(np.squeeze(Y_train_orig[:, index])))"
   ]
  },
  {
   "cell_type": "code",
   "execution_count": 5,
   "metadata": {},
   "outputs": [],
   "source": [
    "def hand_model():\n",
    "    model = Sequential()\n",
    "    model.add(Conv2D(16, (5, 5), padding='same', activation='relu'))\n",
    "    model.add(MaxPooling2D(pool_size=(4, 4),strides=(4,4)))\n",
    "    model.add(Conv2D(32, (5, 5), padding='same', activation='relu'))\n",
    "    model.add(MaxPooling2D(pool_size=(4, 4),strides=(4,4)))\n",
    "    model.add(Conv2D(64, (3, 3), padding='same', activation='relu'))\n",
    "    model.add(MaxPooling2D(pool_size=(2, 2),strides=(2,2)))\n",
    "    model.add(Conv2D(128, (3, 3), padding='same', activation='relu'))\n",
    "    model.add(MaxPooling2D(pool_size=(2, 2),strides=(2,2)))\n",
    "    \n",
    "    model.add(Flatten())\n",
    "    model.add(Dense(32))\n",
    "    model.add(Dense(32))\n",
    "    model.add(Dense(16))\n",
    "    model.add(Dense(6, activation='softmax'))\n",
    "    return model\n",
    "\n"
   ]
  },
  {
   "cell_type": "code",
   "execution_count": 6,
   "metadata": {},
   "outputs": [
    {
     "name": "stdout",
     "output_type": "stream",
     "text": [
      "WARNING:tensorflow:From /home/amogh/anaconda3/lib/python3.7/site-packages/tensorflow/python/framework/op_def_library.py:263: colocate_with (from tensorflow.python.framework.ops) is deprecated and will be removed in a future version.\n",
      "Instructions for updating:\n",
      "Colocations handled automatically by placer.\n",
      "WARNING:tensorflow:From /home/amogh/anaconda3/lib/python3.7/site-packages/tensorflow/python/ops/math_ops.py:3066: to_int32 (from tensorflow.python.ops.math_ops) is deprecated and will be removed in a future version.\n",
      "Instructions for updating:\n",
      "Use tf.cast instead.\n",
      "Epoch 1/100\n",
      "1080/1080 [==============================] - 4s 4ms/step - loss: 1.8002 - acc: 0.1667\n",
      "Epoch 2/100\n",
      "1080/1080 [==============================] - 4s 3ms/step - loss: 1.7758 - acc: 0.2120\n",
      "Epoch 3/100\n",
      "1080/1080 [==============================] - 4s 3ms/step - loss: 1.6518 - acc: 0.3574\n",
      "Epoch 4/100\n",
      "1080/1080 [==============================] - 4s 4ms/step - loss: 1.4257 - acc: 0.4306\n",
      "Epoch 5/100\n",
      "1080/1080 [==============================] - 4s 3ms/step - loss: 1.0678 - acc: 0.5963\n",
      "Epoch 6/100\n",
      "1080/1080 [==============================] - 4s 3ms/step - loss: 0.8686 - acc: 0.6713\n",
      "Epoch 7/100\n",
      "1080/1080 [==============================] - 4s 4ms/step - loss: 0.7747 - acc: 0.6722\n",
      "Epoch 8/100\n",
      "1080/1080 [==============================] - 4s 4ms/step - loss: 0.5494 - acc: 0.8028\n",
      "Epoch 9/100\n",
      "1080/1080 [==============================] - 4s 4ms/step - loss: 0.4500 - acc: 0.8333\n",
      "Epoch 10/100\n",
      "1080/1080 [==============================] - 4s 4ms/step - loss: 0.3728 - acc: 0.8759\n",
      "Epoch 11/100\n",
      "1080/1080 [==============================] - 4s 4ms/step - loss: 0.3295 - acc: 0.8880\n",
      "Epoch 12/100\n",
      "1080/1080 [==============================] - 4s 3ms/step - loss: 0.2435 - acc: 0.9204\n",
      "Epoch 13/100\n",
      "1080/1080 [==============================] - 4s 4ms/step - loss: 0.1593 - acc: 0.9519\n",
      "Epoch 14/100\n",
      "1080/1080 [==============================] - 4s 4ms/step - loss: 0.1376 - acc: 0.9611\n",
      "Epoch 15/100\n",
      "1080/1080 [==============================] - 4s 3ms/step - loss: 0.1153 - acc: 0.9676\n",
      "Epoch 16/100\n",
      "1080/1080 [==============================] - 4s 4ms/step - loss: 0.1067 - acc: 0.9685\n",
      "Epoch 17/100\n",
      "1080/1080 [==============================] - 4s 4ms/step - loss: 0.0828 - acc: 0.9796\n",
      "Epoch 18/100\n",
      "1080/1080 [==============================] - 4s 4ms/step - loss: 0.0772 - acc: 0.9750\n",
      "Epoch 19/100\n",
      "1080/1080 [==============================] - 4s 4ms/step - loss: 0.0829 - acc: 0.9722\n",
      "Epoch 20/100\n",
      "1080/1080 [==============================] - 4s 4ms/step - loss: 0.0515 - acc: 0.9880\n",
      "Epoch 21/100\n",
      "1080/1080 [==============================] - 4s 4ms/step - loss: 0.0464 - acc: 0.9907\n",
      "Epoch 22/100\n",
      "1080/1080 [==============================] - 4s 4ms/step - loss: 0.0198 - acc: 0.9963\n",
      "Epoch 23/100\n",
      "1080/1080 [==============================] - 4s 4ms/step - loss: 0.0099 - acc: 1.0000\n",
      "Epoch 24/100\n",
      "1080/1080 [==============================] - 4s 4ms/step - loss: 0.0079 - acc: 1.0000\n",
      "Epoch 25/100\n",
      "1080/1080 [==============================] - 4s 4ms/step - loss: 0.0055 - acc: 1.0000\n",
      "Epoch 26/100\n",
      "1080/1080 [==============================] - 4s 4ms/step - loss: 0.0043 - acc: 1.0000\n",
      "Epoch 27/100\n",
      "1080/1080 [==============================] - 5s 4ms/step - loss: 0.0039 - acc: 1.0000\n",
      "Epoch 28/100\n",
      "1080/1080 [==============================] - 4s 4ms/step - loss: 0.0033 - acc: 1.0000\n",
      "Epoch 29/100\n",
      "1080/1080 [==============================] - 4s 4ms/step - loss: 0.0029 - acc: 1.0000\n",
      "Epoch 30/100\n",
      "1080/1080 [==============================] - 4s 4ms/step - loss: 0.0022 - acc: 1.0000\n",
      "Epoch 31/100\n",
      "1080/1080 [==============================] - 4s 4ms/step - loss: 0.0024 - acc: 1.0000\n",
      "Epoch 32/100\n",
      "1080/1080 [==============================] - 4s 4ms/step - loss: 0.0021 - acc: 1.0000\n",
      "Epoch 33/100\n",
      "1080/1080 [==============================] - 5s 5ms/step - loss: 0.0019 - acc: 1.0000\n",
      "Epoch 34/100\n",
      "1080/1080 [==============================] - 5s 4ms/step - loss: 0.0017 - acc: 1.0000\n",
      "Epoch 35/100\n",
      "1080/1080 [==============================] - 5s 5ms/step - loss: 0.0015 - acc: 1.0000\n",
      "Epoch 36/100\n",
      "1080/1080 [==============================] - 5s 5ms/step - loss: 0.0014 - acc: 1.0000\n",
      "Epoch 37/100\n",
      "1080/1080 [==============================] - 5s 5ms/step - loss: 0.0013 - acc: 1.0000\n",
      "Epoch 38/100\n",
      "1080/1080 [==============================] - 4s 4ms/step - loss: 0.0011 - acc: 1.0000\n",
      "Epoch 39/100\n",
      "1080/1080 [==============================] - 4s 4ms/step - loss: 0.0011 - acc: 1.0000\n",
      "Epoch 40/100\n",
      "1080/1080 [==============================] - 4s 4ms/step - loss: 9.9335e-04 - acc: 1.0000\n",
      "Epoch 41/100\n",
      "1080/1080 [==============================] - 5s 5ms/step - loss: 9.3818e-04 - acc: 1.0000\n",
      "Epoch 42/100\n",
      "1080/1080 [==============================] - 4s 4ms/step - loss: 8.9171e-04 - acc: 1.0000\n",
      "Epoch 43/100\n",
      "1080/1080 [==============================] - 4s 4ms/step - loss: 8.2382e-04 - acc: 1.0000\n",
      "Epoch 44/100\n",
      "1080/1080 [==============================] - 4s 4ms/step - loss: 7.9360e-04 - acc: 1.0000\n",
      "Epoch 45/100\n",
      "1080/1080 [==============================] - 4s 4ms/step - loss: 7.6081e-04 - acc: 1.0000\n",
      "Epoch 46/100\n",
      "1080/1080 [==============================] - 4s 4ms/step - loss: 6.9947e-04 - acc: 1.0000\n",
      "Epoch 47/100\n",
      "1080/1080 [==============================] - 4s 4ms/step - loss: 6.7789e-04 - acc: 1.0000\n",
      "Epoch 48/100\n",
      "1080/1080 [==============================] - 4s 4ms/step - loss: 6.3500e-04 - acc: 1.0000\n",
      "Epoch 49/100\n",
      "1080/1080 [==============================] - 4s 4ms/step - loss: 5.9533e-04 - acc: 1.0000\n",
      "Epoch 50/100\n",
      "1080/1080 [==============================] - 4s 4ms/step - loss: 5.7252e-04 - acc: 1.0000\n",
      "Epoch 51/100\n",
      "1080/1080 [==============================] - 4s 4ms/step - loss: 5.4008e-04 - acc: 1.0000\n",
      "Epoch 52/100\n",
      "1080/1080 [==============================] - 4s 4ms/step - loss: 5.0674e-04 - acc: 1.0000\n",
      "Epoch 53/100\n",
      "1080/1080 [==============================] - 4s 4ms/step - loss: 4.8584e-04 - acc: 1.0000\n",
      "Epoch 54/100\n",
      "1080/1080 [==============================] - 4s 4ms/step - loss: 4.6636e-04 - acc: 1.0000\n",
      "Epoch 55/100\n",
      "1080/1080 [==============================] - 4s 4ms/step - loss: 4.5035e-04 - acc: 1.0000\n",
      "Epoch 56/100\n",
      "1080/1080 [==============================] - 4s 4ms/step - loss: 4.3198e-04 - acc: 1.0000\n",
      "Epoch 57/100\n",
      "1080/1080 [==============================] - 4s 4ms/step - loss: 4.1319e-04 - acc: 1.0000\n",
      "Epoch 58/100\n",
      "1080/1080 [==============================] - 4s 4ms/step - loss: 4.0172e-04 - acc: 1.0000\n",
      "Epoch 59/100\n",
      "1080/1080 [==============================] - 4s 4ms/step - loss: 3.9249e-04 - acc: 1.0000\n",
      "Epoch 60/100\n",
      "1080/1080 [==============================] - 4s 4ms/step - loss: 3.6834e-04 - acc: 1.0000\n",
      "Epoch 61/100\n",
      "1080/1080 [==============================] - 4s 4ms/step - loss: 3.4539e-04 - acc: 1.0000\n",
      "Epoch 62/100\n",
      "1080/1080 [==============================] - 4s 4ms/step - loss: 3.3659e-04 - acc: 1.0000\n",
      "Epoch 63/100\n",
      "1080/1080 [==============================] - 4s 4ms/step - loss: 3.2221e-04 - acc: 1.0000\n",
      "Epoch 64/100\n",
      "1080/1080 [==============================] - 4s 4ms/step - loss: 3.1438e-04 - acc: 1.0000\n",
      "Epoch 65/100\n",
      "1080/1080 [==============================] - 4s 4ms/step - loss: 3.0303e-04 - acc: 1.0000\n",
      "Epoch 66/100\n",
      "1080/1080 [==============================] - 4s 4ms/step - loss: 2.8700e-04 - acc: 1.0000\n",
      "Epoch 67/100\n",
      "1080/1080 [==============================] - 4s 4ms/step - loss: 2.7694e-04 - acc: 1.0000\n",
      "Epoch 68/100\n",
      "1080/1080 [==============================] - 4s 4ms/step - loss: 2.6509e-04 - acc: 1.0000\n",
      "Epoch 69/100\n",
      "1080/1080 [==============================] - 4s 4ms/step - loss: 2.5980e-04 - acc: 1.0000\n",
      "Epoch 70/100\n",
      "1080/1080 [==============================] - 4s 4ms/step - loss: 2.5158e-04 - acc: 1.0000\n",
      "Epoch 71/100\n",
      "1080/1080 [==============================] - 4s 4ms/step - loss: 2.4243e-04 - acc: 1.0000\n",
      "Epoch 72/100\n",
      "1080/1080 [==============================] - 4s 4ms/step - loss: 2.3081e-04 - acc: 1.0000\n",
      "Epoch 73/100\n",
      "1080/1080 [==============================] - 4s 4ms/step - loss: 2.2783e-04 - acc: 1.0000\n",
      "Epoch 74/100\n",
      "1080/1080 [==============================] - 4s 4ms/step - loss: 2.2097e-04 - acc: 1.0000\n",
      "Epoch 75/100\n",
      "1080/1080 [==============================] - 4s 4ms/step - loss: 2.1622e-04 - acc: 1.0000\n",
      "Epoch 76/100\n",
      "1080/1080 [==============================] - 4s 4ms/step - loss: 2.0790e-04 - acc: 1.0000\n",
      "Epoch 77/100\n",
      "1080/1080 [==============================] - 4s 3ms/step - loss: 2.0071e-04 - acc: 1.0000\n",
      "Epoch 78/100\n",
      "1080/1080 [==============================] - 4s 3ms/step - loss: 1.9337e-04 - acc: 1.0000\n",
      "Epoch 79/100\n",
      "1080/1080 [==============================] - 4s 3ms/step - loss: 1.9049e-04 - acc: 1.0000\n",
      "Epoch 80/100\n",
      "1080/1080 [==============================] - 4s 3ms/step - loss: 1.8101e-04 - acc: 1.0000\n",
      "Epoch 81/100\n",
      "1080/1080 [==============================] - 4s 3ms/step - loss: 1.7645e-04 - acc: 1.0000\n",
      "Epoch 82/100\n",
      "1080/1080 [==============================] - 4s 4ms/step - loss: 1.7460e-04 - acc: 1.0000\n",
      "Epoch 83/100\n",
      "1080/1080 [==============================] - 4s 4ms/step - loss: 1.6522e-04 - acc: 1.0000\n",
      "Epoch 84/100\n",
      "1080/1080 [==============================] - 4s 3ms/step - loss: 1.6214e-04 - acc: 1.0000\n",
      "Epoch 85/100\n",
      "1080/1080 [==============================] - 4s 3ms/step - loss: 1.5846e-04 - acc: 1.0000\n",
      "Epoch 86/100\n",
      "1080/1080 [==============================] - 4s 4ms/step - loss: 1.5389e-04 - acc: 1.0000\n",
      "Epoch 87/100\n",
      "1080/1080 [==============================] - 4s 4ms/step - loss: 1.4990e-04 - acc: 1.0000\n",
      "Epoch 88/100\n",
      "1080/1080 [==============================] - 4s 4ms/step - loss: 1.4457e-04 - acc: 1.0000\n",
      "Epoch 89/100\n",
      "1080/1080 [==============================] - 4s 3ms/step - loss: 1.4097e-04 - acc: 1.0000\n",
      "Epoch 90/100\n",
      "1080/1080 [==============================] - 4s 4ms/step - loss: 1.3678e-04 - acc: 1.0000\n",
      "Epoch 91/100\n",
      "1080/1080 [==============================] - 4s 3ms/step - loss: 1.3362e-04 - acc: 1.0000\n",
      "Epoch 92/100\n",
      "1080/1080 [==============================] - 4s 3ms/step - loss: 1.3056e-04 - acc: 1.0000\n",
      "Epoch 93/100\n",
      "1080/1080 [==============================] - 4s 4ms/step - loss: 1.2762e-04 - acc: 1.0000\n",
      "Epoch 94/100\n",
      "1080/1080 [==============================] - 4s 4ms/step - loss: 1.2439e-04 - acc: 1.0000\n",
      "Epoch 95/100\n",
      "1080/1080 [==============================] - 4s 3ms/step - loss: 1.2018e-04 - acc: 1.0000\n",
      "Epoch 96/100\n",
      "1080/1080 [==============================] - 4s 3ms/step - loss: 1.1802e-04 - acc: 1.0000\n",
      "Epoch 97/100\n",
      "1080/1080 [==============================] - 4s 3ms/step - loss: 1.1474e-04 - acc: 1.0000\n",
      "Epoch 98/100\n",
      "1080/1080 [==============================] - 4s 4ms/step - loss: 1.1321e-04 - acc: 1.0000\n",
      "Epoch 99/100\n",
      "1080/1080 [==============================] - 4s 4ms/step - loss: 1.0893e-04 - acc: 1.0000\n",
      "Epoch 100/100\n",
      "1080/1080 [==============================] - 4s 4ms/step - loss: 1.0669e-04 - acc: 1.0000\n"
     ]
    }
   ],
   "source": [
    "model1 = hand_model()\n",
    "\n",
    "model1.compile(optimizer='adam', loss='categorical_crossentropy', metrics=['accuracy'],lr=0.001)\n",
    "history=model1.fit(X_train, Y_train, epochs=100, batch_size=64)"
   ]
  },
  {
   "cell_type": "code",
   "execution_count": 7,
   "metadata": {},
   "outputs": [
    {
     "name": "stdout",
     "output_type": "stream",
     "text": [
      "120/120 [==============================] - 0s 2ms/step\n",
      "\n",
      "Loss = 0.20382870932420094\n",
      "Test Accuracy = 0.9583333293596904\n"
     ]
    }
   ],
   "source": [
    "preds = model1.evaluate(X_test, Y_test, batch_size=32, verbose=1, sample_weight=None)\n",
    "\n",
    "print()\n",
    "print (\"Loss = \" + str(preds[0]))\n",
    "print (\"Test Accuracy = \" + str(preds[1]))"
   ]
  },
  {
   "cell_type": "code",
   "execution_count": 8,
   "metadata": {},
   "outputs": [
    {
     "data": {
      "text/plain": [
       "Text(0.5, 1.0, 'Accuracy Curves')"
      ]
     },
     "execution_count": 8,
     "metadata": {},
     "output_type": "execute_result"
    },
    {
     "data": {
      "image/png": "[encoded data removed]",
      "text/plain": [
       "<Figure size 360x216 with 1 Axes>"
      ]
     },
     "metadata": {
      "needs_background": "light"
     },
     "output_type": "display_data"
    },
    {
     "data": {
      "image/png": "[encoded data removed]",
      "text/plain": [
       "<Figure size 360x216 with 1 Axes>"
      ]
     },
     "metadata": {
      "needs_background": "light"
     },
     "output_type": "display_data"
    }
   ],
   "source": [
    "plt.figure(figsize=[5,3])\n",
    "plt.plot(history.history['loss'],'b',linewidth=1.0)\n",
    "#plt.plot(history.history['val_loss'],'b',linewidth=3.0)\n",
    "plt.legend(['Training loss', 'Validation Loss'],fontsize=18)\n",
    "plt.xlabel('Epochs ',fontsize=16)\n",
    "plt.ylabel('Loss',fontsize=16)\n",
    "plt.title('Loss Curves',fontsize=16)\n",
    "  \n",
    "# Accuracy Curves\n",
    "plt.figure(figsize=[5,3])\n",
    "plt.plot(history.history['acc'],'b',linewidth=1.0)\n",
    "#plt.plot(history.history['val_acc'],'b',linewidth=3.0)\n",
    "plt.legend(['Training Accuracy', 'Validation Accuracy'],fontsize=18)\n",
    "plt.xlabel('Epochs ',fontsize=16)\n",
    "plt.ylabel('Accuracy',fontsize=16)\n",
    "plt.title('Accuracy Curves',fontsize=16)"
   ]
  },
  {
   "cell_type": "code",
   "execution_count": 127,
   "metadata": {},
   "outputs": [
    {
     "name": "stdout",
     "output_type": "stream",
     "text": [
      "5\n"
     ]
    },
    {
     "data": {
      "image/png": "[encoded data removed]",
      "text/plain": [
       "<Figure size 432x288 with 1 Axes>"
      ]
     },
     "metadata": {
      "needs_background": "light"
     },
     "output_type": "display_data"
    }
   ],
   "source": [
    "img_path = '05.jpg'\n",
    "img = image.load_img(img_path, target_size=(64, 64))\n",
    "imshow(img)\n",
    "\n",
    "x = image.img_to_array(img)\n",
    "x = np.expand_dims(x, axis=0)\n",
    "x = preprocess_input(x)\n",
    "\n",
    "print(np.argmax(model1.predict(x)))"
   ]
  },
  {
   "cell_type": "code",
   "execution_count": 128,
   "metadata": {},
   "outputs": [
    {
     "name": "stdout",
     "output_type": "stream",
     "text": [
      "_________________________________________________________________\n",
      "Layer (type)                 Output Shape              Param #   \n",
      "=================================================================\n",
      "conv2d_58 (Conv2D)           (None, 64, 64, 16)        1216      \n",
      "_________________________________________________________________\n",
      "max_pooling2d_58 (MaxPooling (None, 16, 16, 16)        0         \n",
      "_________________________________________________________________\n",
      "conv2d_59 (Conv2D)           (None, 16, 16, 32)        12832     \n",
      "_________________________________________________________________\n",
      "max_pooling2d_59 (MaxPooling (None, 4, 4, 32)          0         \n",
      "_________________________________________________________________\n",
      "conv2d_60 (Conv2D)           (None, 4, 4, 64)          18496     \n",
      "_________________________________________________________________\n",
      "max_pooling2d_60 (MaxPooling (None, 2, 2, 64)          0         \n",
      "_________________________________________________________________\n",
      "conv2d_61 (Conv2D)           (None, 2, 2, 128)         73856     \n",
      "_________________________________________________________________\n",
      "max_pooling2d_61 (MaxPooling (None, 1, 1, 128)         0         \n",
      "_________________________________________________________________\n",
      "flatten_23 (Flatten)         (None, 128)               0         \n",
      "_________________________________________________________________\n",
      "dense_51 (Dense)             (None, 32)                4128      \n",
      "_________________________________________________________________\n",
      "dense_52 (Dense)             (None, 32)                1056      \n",
      "_________________________________________________________________\n",
      "dense_53 (Dense)             (None, 16)                528       \n",
      "_________________________________________________________________\n",
      "dense_54 (Dense)             (None, 6)                 102       \n",
      "=================================================================\n",
      "Total params: 112,214\n",
      "Trainable params: 112,214\n",
      "Non-trainable params: 0\n",
      "_________________________________________________________________\n"
     ]
    }
   ],
   "source": [
    "model1.summary()"
   ]
  },
  {
   "cell_type": "code",
   "execution_count": 130,
   "metadata": {},
   "outputs": [],
   "source": [
    "model1.save('hand_model.h5')"
   ]
  },
  {
   "cell_type": "code",
   "execution_count": 4,
   "metadata": {},
   "outputs": [],
   "source": [
    "from keras.models import load_model\n",
    "new_model = load_model('hand_model2.h5')"
   ]
  },
  {
   "cell_type": "code",
   "execution_count": 10,
   "metadata": {},
   "outputs": [
    {
     "name": "stdout",
     "output_type": "stream",
     "text": [
      "4\n"
     ]
    },
    {
     "data": {
      "image/png": "[encoded data removed]",
      "text/plain": [
       "<Figure size 432x288 with 1 Axes>"
      ]
     },
     "metadata": {
      "needs_background": "light"
     },
     "output_type": "display_data"
    }
   ],
   "source": [
    "img_path = 'webcam.jpeg'\n",
    "img = image.load_img(img_path, target_size=(64, 64))\n",
    "imshow(img)\n",
    "\n",
    "x = image.img_to_array(img)\n",
    "x = np.expand_dims(x, axis=0)\n",
    "x = preprocess_input(x)\n",
    "\n",
    "print(np.argmax(new_model.predict(x)))"
   ]
  },
  {
   "cell_type": "code",
   "execution_count": null,
   "metadata": {},
   "outputs": [],
   "source": []
  }
 ],
 "metadata": {
  "kernelspec": {
   "display_name": "Python 3",
   "language": "python",
   "name": "python3"
  },
  "language_info": {
   "codemirror_mode": {
    "name": "ipython",
    "version": 3
   },
   "file_extension": ".py",
   "mimetype": "text/x-python",
   "name": "python",
   "nbconvert_exporter": "python",
   "pygments_lexer": "ipython3",
   "version": "3.7.1"
  }
 },
 "nbformat": 4,
 "nbformat_minor": 2
}
